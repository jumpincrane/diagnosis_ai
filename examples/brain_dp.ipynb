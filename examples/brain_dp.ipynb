{
 "cells": [
  {
   "cell_type": "code",
   "execution_count": 2,
   "metadata": {},
   "outputs": [],
   "source": [
    "# import torch\n",
    "# import torchvision\n",
    "# import torchmetrics\n",
    "# import torch.nn as nn\n",
    "import nipy\n",
    "from nibabel.testing import data_path\n",
    "import nibabel as nib\n",
    "import numpy as np\n",
    "import matplotlib.pyplot as plt\n",
    "import matplotlib.image as mpimg\n",
    "import pathlib\n",
    "import numpy as np"
   ]
  },
  {
   "cell_type": "code",
   "execution_count": 5,
   "metadata": {},
   "outputs": [],
   "source": [
    "path = pathlib.Path('/mnt/e/mgr/datasets/brain/Brats2021_training_df/BraTS2021_00003')\n",
    "brain_sample = {}\n",
    "for file in path.iterdir():\n",
    "    sample = nib.load(file)\n",
    "    brain_sample[file.name[:-7]] = sample.get_fdata()"
   ]
  },
  {
   "cell_type": "code",
   "execution_count": 58,
   "metadata": {},
   "outputs": [
    {
     "name": "stdout",
     "output_type": "stream",
     "text": [
      "113\n"
     ]
    }
   ],
   "source": [
    "def get_max_area_slice(file_seg):\n",
    "    segments = file_seg\n",
    "    tumor_info = {1: {\"class_idx\": 1},\n",
    "                2: {\"class_idx\": 2},\n",
    "                3: {\"class_idx\": 4}}\n",
    "\n",
    "    arr = np.zeros((155, ))\n",
    "    for i in range(155):\n",
    "        slice = segments[:, :, i]\n",
    "        slice_areas = []\n",
    "        slice_areas = np.zeros(3)\n",
    "        for j, tumor_seg in enumerate(tumor_info):\n",
    "            segment_info = tumor_info[tumor_seg]\n",
    "\n",
    "            seg_mask = (slice == segment_info['class_idx']).nonzero()\n",
    "            seg_x, seg_y = seg_mask\n",
    "\n",
    "            seg_area = seg_x.shape[0] * seg_y.shape[0]\n",
    "            slice_areas[j] = seg_area\n",
    "        arr[i] = slice_areas.sum()\n",
    "\n",
    "    return arr.argmax()\n"
   ]
  }
 ],
 "metadata": {
  "interpreter": {
   "hash": "62b2789806963ee48603215ed199424b464920b314b9e4e70349be42054248a8"
  },
  "kernelspec": {
   "display_name": "Python 3.9.12 ('mgr_dp')",
   "language": "python",
   "name": "python3"
  },
  "language_info": {
   "codemirror_mode": {
    "name": "ipython",
    "version": 3
   },
   "file_extension": ".py",
   "mimetype": "text/x-python",
   "name": "python",
   "nbconvert_exporter": "python",
   "pygments_lexer": "ipython3",
   "version": "3.9.12"
  },
  "orig_nbformat": 4
 },
 "nbformat": 4,
 "nbformat_minor": 2
}
