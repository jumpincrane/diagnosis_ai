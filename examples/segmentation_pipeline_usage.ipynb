{
 "cells": [
  {
   "cell_type": "code",
   "execution_count": 1,
   "metadata": {},
   "outputs": [
    {
     "name": "stderr",
     "output_type": "stream",
     "text": [
      "/home/michalheit/miniconda3/envs/torch_ml_py39/lib/python3.9/site-packages/tqdm/auto.py:21: TqdmWarning: IProgress not found. Please update jupyter and ipywidgets. See https://ipywidgets.readthedocs.io/en/stable/user_install.html\n",
      "  from .autonotebook import tqdm as notebook_tqdm\n"
     ]
    }
   ],
   "source": [
    "%load_ext autoreload\n",
    "%autoreload 2\n",
    "\n",
    "from diagnosisai.nn_datasets import BrainDataset\n",
    "from diagnosisai.pipelines import SegmentationPipeline"
   ]
  },
  {
   "cell_type": "code",
   "execution_count": 2,
   "metadata": {},
   "outputs": [],
   "source": [
    "dataset = BrainDataset(dataset_dir='../datasets/samples/brain/3D/', to_scale_size=(128, 128, 155), only_the_largest_slice=True, binary_seg=False)"
   ]
  },
  {
   "cell_type": "code",
   "execution_count": 4,
   "metadata": {},
   "outputs": [],
   "source": [
    "pipe = SegmentationPipeline(config_path='../config/segmentation_config.json', config_name=\"UNetSemantic\")\n",
    "pipe.fit(dataset, dataset)"
   ]
  },
  {
   "cell_type": "code",
   "execution_count": null,
   "metadata": {},
   "outputs": [],
   "source": [
    "pipe.predict(dataset)"
   ]
  },
  {
   "cell_type": "code",
   "execution_count": 7,
   "metadata": {},
   "outputs": [],
   "source": [
    "dataset = BrainDataset(dataset_dir='../datasets/samples/brain/3D/', to_scale_size=(128, 128, 155), only_the_largest_slice=True, binary_seg=True)"
   ]
  },
  {
   "cell_type": "code",
   "execution_count": 8,
   "metadata": {},
   "outputs": [
    {
     "name": "stderr",
     "output_type": "stream",
     "text": [
      "  0%|          | 0/10 [00:00<?, ?it/s]"
     ]
    },
    {
     "name": "stdout",
     "output_type": "stream",
     "text": [
      "Step 0/1\n",
      "Step 0/1\n"
     ]
    },
    {
     "name": "stderr",
     "output_type": "stream",
     "text": [
      " 10%|█         | 1/10 [00:08<01:12,  8.05s/it]"
     ]
    },
    {
     "name": "stdout",
     "output_type": "stream",
     "text": [
      "Step 0/1\n",
      "Step 0/1\n"
     ]
    },
    {
     "name": "stderr",
     "output_type": "stream",
     "text": [
      " 20%|██        | 2/10 [00:15<01:03,  7.89s/it]"
     ]
    },
    {
     "name": "stdout",
     "output_type": "stream",
     "text": [
      "Step 0/1\n"
     ]
    },
    {
     "name": "stderr",
     "output_type": "stream",
     "text": [
      " 30%|███       | 3/10 [00:22<00:52,  7.52s/it]"
     ]
    },
    {
     "name": "stdout",
     "output_type": "stream",
     "text": [
      "Step 0/1\n",
      "Step 0/1\n",
      "Step 0/1\n"
     ]
    },
    {
     "name": "stderr",
     "output_type": "stream",
     "text": [
      " 40%|████      | 4/10 [00:30<00:45,  7.50s/it]"
     ]
    },
    {
     "name": "stdout",
     "output_type": "stream",
     "text": [
      "Step 0/1\n",
      "Step 0/1\n"
     ]
    },
    {
     "name": "stderr",
     "output_type": "stream",
     "text": [
      " 50%|█████     | 5/10 [00:37<00:37,  7.46s/it]"
     ]
    },
    {
     "name": "stdout",
     "output_type": "stream",
     "text": [
      "Step 0/1\n"
     ]
    },
    {
     "name": "stderr",
     "output_type": "stream",
     "text": [
      " 60%|██████    | 6/10 [00:44<00:29,  7.33s/it]"
     ]
    },
    {
     "name": "stdout",
     "output_type": "stream",
     "text": [
      "Step 0/1\n",
      "Step 0/1\n"
     ]
    },
    {
     "name": "stderr",
     "output_type": "stream",
     "text": [
      " 70%|███████   | 7/10 [00:51<00:21,  7.27s/it]"
     ]
    },
    {
     "name": "stdout",
     "output_type": "stream",
     "text": [
      "Step 0/1\n",
      "Step 0/1\n"
     ]
    },
    {
     "name": "stderr",
     "output_type": "stream",
     "text": [
      " 80%|████████  | 8/10 [00:59<00:14,  7.24s/it]"
     ]
    },
    {
     "name": "stdout",
     "output_type": "stream",
     "text": [
      "Step 0/1\n",
      "Step 0/1\n"
     ]
    },
    {
     "name": "stderr",
     "output_type": "stream",
     "text": [
      " 90%|█████████ | 9/10 [01:06<00:07,  7.19s/it]"
     ]
    },
    {
     "name": "stdout",
     "output_type": "stream",
     "text": [
      "Step 0/1\n",
      "Step 0/1\n"
     ]
    },
    {
     "name": "stderr",
     "output_type": "stream",
     "text": [
      "100%|██████████| 10/10 [01:13<00:00,  7.34s/it]"
     ]
    },
    {
     "name": "stdout",
     "output_type": "stream",
     "text": [
      "Step 0/1\n"
     ]
    },
    {
     "name": "stderr",
     "output_type": "stream",
     "text": [
      "\n"
     ]
    }
   ],
   "source": [
    "pipe = SegmentationPipeline(config_path='../config/segmentation_config.json', config_name=\"UNetBinary\")\n",
    "pipe.fit(dataset, dataset)"
   ]
  },
  {
   "cell_type": "code",
   "execution_count": 10,
   "metadata": {},
   "outputs": [
    {
     "name": "stderr",
     "output_type": "stream",
     "text": [
      "100%|██████████| 1/1 [00:03<00:00,  3.81s/it]\n"
     ]
    },
    {
     "data": {
      "text/plain": [
       "(tensor([[[[0.4705, 0.4128, 0.4541,  ..., 0.3801, 0.4151, 0.4491],\n",
       "           [0.4243, 0.3412, 0.3936,  ..., 0.3484, 0.3750, 0.4143],\n",
       "           [0.4191, 0.2561, 0.3637,  ..., 0.3350, 0.2945, 0.3454],\n",
       "           ...,\n",
       "           [0.2697, 0.0413, 0.0231,  ..., 0.3356, 0.3648, 0.4254],\n",
       "           [0.3107, 0.0571, 0.0509,  ..., 0.3450, 0.3662, 0.4171],\n",
       "           [0.4313, 0.2194, 0.1828,  ..., 0.3733, 0.3991, 0.4457]]],\n",
       " \n",
       " \n",
       "         [[[0.4707, 0.4247, 0.4532,  ..., 0.3931, 0.4244, 0.4533],\n",
       "           [0.4347, 0.3710, 0.4027,  ..., 0.3706, 0.3894, 0.4277],\n",
       "           [0.4223, 0.2935, 0.3742,  ..., 0.3552, 0.3180, 0.3621],\n",
       "           ...,\n",
       "           [0.3186, 0.0819, 0.0536,  ..., 0.3626, 0.3871, 0.4371],\n",
       "           [0.3538, 0.1043, 0.0966,  ..., 0.3721, 0.3905, 0.4309],\n",
       "           [0.4495, 0.2768, 0.2426,  ..., 0.3959, 0.4187, 0.4542]]],\n",
       " \n",
       " \n",
       "         [[[0.4716, 0.4249, 0.4537,  ..., 0.3979, 0.4276, 0.4546],\n",
       "           [0.4338, 0.3681, 0.4017,  ..., 0.3786, 0.3946, 0.4326],\n",
       "           [0.4237, 0.2918, 0.3740,  ..., 0.3631, 0.3274, 0.3693],\n",
       "           ...,\n",
       "           [0.3222, 0.0860, 0.0570,  ..., 0.3716, 0.3947, 0.4413],\n",
       "           [0.3569, 0.1087, 0.1011,  ..., 0.3807, 0.3989, 0.4357],\n",
       "           [0.4505, 0.2811, 0.2475,  ..., 0.4047, 0.4251, 0.4572]]],\n",
       " \n",
       " \n",
       "         [[[0.4715, 0.4318, 0.4537,  ..., 0.4041, 0.4320, 0.4562],\n",
       "           [0.4398, 0.3847, 0.4067,  ..., 0.3895, 0.4024, 0.4391],\n",
       "           [0.4274, 0.3162, 0.3818,  ..., 0.3737, 0.3404, 0.3790],\n",
       "           ...,\n",
       "           [0.3452, 0.1148, 0.0816,  ..., 0.3799, 0.4024, 0.4452],\n",
       "           [0.3767, 0.1402, 0.1322,  ..., 0.3898, 0.4063, 0.4400],\n",
       "           [0.4587, 0.3095, 0.2779,  ..., 0.4133, 0.4308, 0.4600]]],\n",
       " \n",
       " \n",
       "         [[[0.4685, 0.3978, 0.4558,  ..., 0.3651, 0.4033, 0.4434],\n",
       "           [0.4157, 0.3116, 0.3818,  ..., 0.3231, 0.3568, 0.3994],\n",
       "           [0.4129, 0.2185, 0.3492,  ..., 0.3114, 0.2673, 0.3268],\n",
       "           ...,\n",
       "           [0.2377, 0.0252, 0.0127,  ..., 0.3120, 0.3449, 0.4143],\n",
       "           [0.2825, 0.0368, 0.0321,  ..., 0.3220, 0.3444, 0.4038],\n",
       "           [0.4186, 0.1847, 0.1482,  ..., 0.3523, 0.3805, 0.4368]]]]),\n",
       " {'accuracy': 0.9419189691543579,\n",
       "  'precision': 0.0,\n",
       "  'recall': 0.0,\n",
       "  'f1score': 0.0,\n",
       "  'jaccard_index': 0.0})"
      ]
     },
     "execution_count": 10,
     "metadata": {},
     "output_type": "execute_result"
    }
   ],
   "source": [
    "pipe.predict(dataset)"
   ]
  }
 ],
 "metadata": {
  "kernelspec": {
   "display_name": "torch_ml_py39",
   "language": "python",
   "name": "python3"
  },
  "language_info": {
   "codemirror_mode": {
    "name": "ipython",
    "version": 3
   },
   "file_extension": ".py",
   "mimetype": "text/x-python",
   "name": "python",
   "nbconvert_exporter": "python",
   "pygments_lexer": "ipython3",
   "version": "3.9.16"
  },
  "orig_nbformat": 4,
  "vscode": {
   "interpreter": {
    "hash": "f3d305de72ecfcd7bfdd811a9312ef07058267f924cfd492e37a78fe62693872"
   }
  }
 },
 "nbformat": 4,
 "nbformat_minor": 2
}
